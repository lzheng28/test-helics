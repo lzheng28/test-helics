{
 "cells": [
  {
   "cell_type": "code",
   "execution_count": 1,
   "id": "0fa054f2",
   "metadata": {},
   "outputs": [],
   "source": [
    "# file...... output/IEEE_123_feeder_0_swing_node_1.csv\n",
    "# date...... Tue Jul 20 22:05:25 2021\n",
    "# user...... lei\n",
    "# host...... (null)\n",
    "# target.... substation 3\n",
    "# trigger... (none)\n",
    "# interval.. 60\n",
    "# limit..... 0"
   ]
  },
  {
   "cell_type": "code",
   "execution_count": 2,
   "id": "e0e65769",
   "metadata": {},
   "outputs": [],
   "source": [
    "import numpy as np\n",
    "import pandas as pd"
   ]
  },
  {
   "cell_type": "code",
   "execution_count": 3,
   "id": "0f030c43",
   "metadata": {},
   "outputs": [
    {
     "data": {
      "text/html": [
       "<div>\n",
       "<style scoped>\n",
       "    .dataframe tbody tr th:only-of-type {\n",
       "        vertical-align: middle;\n",
       "    }\n",
       "\n",
       "    .dataframe tbody tr th {\n",
       "        vertical-align: top;\n",
       "    }\n",
       "\n",
       "    .dataframe thead th {\n",
       "        text-align: right;\n",
       "    }\n",
       "</style>\n",
       "<table border=\"1\" class=\"dataframe\">\n",
       "  <thead>\n",
       "    <tr style=\"text-align: right;\">\n",
       "      <th></th>\n",
       "      <th># timestamp</th>\n",
       "      <th>positive_sequence_voltage</th>\n",
       "      <th>distribution_load</th>\n",
       "    </tr>\n",
       "  </thead>\n",
       "  <tbody>\n",
       "    <tr>\n",
       "      <th>0</th>\n",
       "      <td>2013-08-28 00:00:00 PST</td>\n",
       "      <td>+138000+0i</td>\n",
       "      <td>+1.6262e+06+855353j</td>\n",
       "    </tr>\n",
       "    <tr>\n",
       "      <th>1</th>\n",
       "      <td>2013-08-28 00:01:00 PST</td>\n",
       "      <td>+131095+0j</td>\n",
       "      <td>+1.52042e+06+804858j</td>\n",
       "    </tr>\n",
       "    <tr>\n",
       "      <th>2</th>\n",
       "      <td>2013-08-28 00:02:00 PST</td>\n",
       "      <td>+131095+0j</td>\n",
       "      <td>+1.54234e+06+814152j</td>\n",
       "    </tr>\n",
       "    <tr>\n",
       "      <th>3</th>\n",
       "      <td>2013-08-28 00:03:00 PST</td>\n",
       "      <td>+131095+0j</td>\n",
       "      <td>+1.56219e+06+822780j</td>\n",
       "    </tr>\n",
       "    <tr>\n",
       "      <th>4</th>\n",
       "      <td>2013-08-28 00:04:00 PST</td>\n",
       "      <td>+131095+0j</td>\n",
       "      <td>+1.58446e+06+832208j</td>\n",
       "    </tr>\n",
       "    <tr>\n",
       "      <th>...</th>\n",
       "      <td>...</td>\n",
       "      <td>...</td>\n",
       "      <td>...</td>\n",
       "    </tr>\n",
       "    <tr>\n",
       "      <th>1435</th>\n",
       "      <td>2013-08-28 23:55:00 PST</td>\n",
       "      <td>+130926+0j</td>\n",
       "      <td>+1.83569e+06+913049j</td>\n",
       "    </tr>\n",
       "    <tr>\n",
       "      <th>1436</th>\n",
       "      <td>2013-08-28 23:56:00 PST</td>\n",
       "      <td>+130926+0j</td>\n",
       "      <td>+1.82308e+06+909387j</td>\n",
       "    </tr>\n",
       "    <tr>\n",
       "      <th>1437</th>\n",
       "      <td>2013-08-28 23:57:00 PST</td>\n",
       "      <td>+130926+0j</td>\n",
       "      <td>+1.81241e+06+906643j</td>\n",
       "    </tr>\n",
       "    <tr>\n",
       "      <th>1438</th>\n",
       "      <td>2013-08-28 23:58:00 PST</td>\n",
       "      <td>+130926+0j</td>\n",
       "      <td>+1.79775e+06+902190j</td>\n",
       "    </tr>\n",
       "    <tr>\n",
       "      <th>1439</th>\n",
       "      <td>2013-08-28 23:59:00 PST</td>\n",
       "      <td>+130926+0j</td>\n",
       "      <td>+1.78323e+06+897657j</td>\n",
       "    </tr>\n",
       "  </tbody>\n",
       "</table>\n",
       "<p>1440 rows × 3 columns</p>\n",
       "</div>"
      ],
      "text/plain": [
       "                  # timestamp positive_sequence_voltage     distribution_load\n",
       "0     2013-08-28 00:00:00 PST                +138000+0i   +1.6262e+06+855353j\n",
       "1     2013-08-28 00:01:00 PST                +131095+0j  +1.52042e+06+804858j\n",
       "2     2013-08-28 00:02:00 PST                +131095+0j  +1.54234e+06+814152j\n",
       "3     2013-08-28 00:03:00 PST                +131095+0j  +1.56219e+06+822780j\n",
       "4     2013-08-28 00:04:00 PST                +131095+0j  +1.58446e+06+832208j\n",
       "...                       ...                       ...                   ...\n",
       "1435  2013-08-28 23:55:00 PST                +130926+0j  +1.83569e+06+913049j\n",
       "1436  2013-08-28 23:56:00 PST                +130926+0j  +1.82308e+06+909387j\n",
       "1437  2013-08-28 23:57:00 PST                +130926+0j  +1.81241e+06+906643j\n",
       "1438  2013-08-28 23:58:00 PST                +130926+0j  +1.79775e+06+902190j\n",
       "1439  2013-08-28 23:59:00 PST                +130926+0j  +1.78323e+06+897657j\n",
       "\n",
       "[1440 rows x 3 columns]"
      ]
     },
     "execution_count": 3,
     "metadata": {},
     "output_type": "execute_result"
    }
   ],
   "source": [
    "# file...... output/IEEE_123_feeder_0_swing_node_2.csv\n",
    "# date...... Thu Jul 22 16:05:42 2021\n",
    "# user...... lei\n",
    "# host...... (null)\n",
    "# target.... substation 3\n",
    "# trigger... (none)\n",
    "# interval.. 60\n",
    "# limit..... 0\n",
    "data_gp = pd.read_csv('IEEE_123_feeder_0_swing_node_2.csv')\n",
    "data_gp_1 = data_gp\n",
    "data_gp_1"
   ]
  },
  {
   "cell_type": "code",
   "execution_count": 4,
   "id": "81f3d822",
   "metadata": {},
   "outputs": [],
   "source": [
    "data_gp_1['positive_sequence_voltage'] = data_gp_1[\"positive_sequence_voltage\"].str.replace('i','j').apply(lambda x: np.complex(x))"
   ]
  },
  {
   "cell_type": "code",
   "execution_count": 5,
   "id": "18dc9b5a",
   "metadata": {},
   "outputs": [],
   "source": [
    "data_gp_1['distribution_load'] = data_gp_1[\"distribution_load\"].str.replace('i','j').apply(lambda x: np.complex(x))"
   ]
  },
  {
   "cell_type": "code",
   "execution_count": 6,
   "id": "0e3217b6",
   "metadata": {},
   "outputs": [],
   "source": [
    "# file...... output/IEEE_123_feeder_0_swing_node.csv\n",
    "# date...... Thu Jul 22 15:59:53 2021\n",
    "# user...... lei\n",
    "# host...... (null)\n",
    "# target.... substation 3\n",
    "# trigger... (none)\n",
    "# interval.. 60\n",
    "# limit..... 0\n",
    "\n",
    "data_pp = pd.read_csv('/home/lei/Desktop/HELICS-Examples/user_guide_examples/to_sort/Example_1a/Distribution/output/IEEE_123_feeder_0_swing_node.csv')\n",
    "data_pp_1 = data_pp"
   ]
  },
  {
   "cell_type": "code",
   "execution_count": 7,
   "id": "dc306855",
   "metadata": {},
   "outputs": [],
   "source": [
    "data_pp_1['positive_sequence_voltage'] = data_pp_1[\"positive_sequence_voltage\"].str.replace('i','j').apply(lambda x: np.complex(x))"
   ]
  },
  {
   "cell_type": "code",
   "execution_count": 8,
   "id": "6ea93245",
   "metadata": {},
   "outputs": [],
   "source": [
    "data_pp_1['distribution_load'] = data_pp_1['distribution_load'].str.replace('i','j').apply(lambda x: np.complex(x))"
   ]
  },
  {
   "cell_type": "code",
   "execution_count": 9,
   "id": "00e8f3ff",
   "metadata": {},
   "outputs": [
    {
     "data": {
      "text/html": [
       "<div>\n",
       "<style scoped>\n",
       "    .dataframe tbody tr th:only-of-type {\n",
       "        vertical-align: middle;\n",
       "    }\n",
       "\n",
       "    .dataframe tbody tr th {\n",
       "        vertical-align: top;\n",
       "    }\n",
       "\n",
       "    .dataframe thead th {\n",
       "        text-align: right;\n",
       "    }\n",
       "</style>\n",
       "<table border=\"1\" class=\"dataframe\">\n",
       "  <thead>\n",
       "    <tr style=\"text-align: right;\">\n",
       "      <th></th>\n",
       "      <th># timestamp</th>\n",
       "      <th>positive_sequence_voltage</th>\n",
       "      <th>distribution_load</th>\n",
       "    </tr>\n",
       "  </thead>\n",
       "  <tbody>\n",
       "    <tr>\n",
       "      <th>0</th>\n",
       "      <td>2013-08-28 00:00:00 PST</td>\n",
       "      <td>138000.0+0.0j</td>\n",
       "      <td>1.626200e+06+8.553530e+05j</td>\n",
       "    </tr>\n",
       "    <tr>\n",
       "      <th>1</th>\n",
       "      <td>2013-08-28 00:01:00 PST</td>\n",
       "      <td>131097.0+0.0j</td>\n",
       "      <td>1.520650e+06+8.049290e+05j</td>\n",
       "    </tr>\n",
       "    <tr>\n",
       "      <th>2</th>\n",
       "      <td>2013-08-28 00:02:00 PST</td>\n",
       "      <td>131097.0+0.0j</td>\n",
       "      <td>1.544140e+06+8.150010e+05j</td>\n",
       "    </tr>\n",
       "    <tr>\n",
       "      <th>3</th>\n",
       "      <td>2013-08-28 00:03:00 PST</td>\n",
       "      <td>131097.0+0.0j</td>\n",
       "      <td>1.562420e+06+8.228540e+05j</td>\n",
       "    </tr>\n",
       "    <tr>\n",
       "      <th>4</th>\n",
       "      <td>2013-08-28 00:04:00 PST</td>\n",
       "      <td>131097.0+0.0j</td>\n",
       "      <td>1.586310e+06+8.330780e+05j</td>\n",
       "    </tr>\n",
       "    <tr>\n",
       "      <th>...</th>\n",
       "      <td>...</td>\n",
       "      <td>...</td>\n",
       "      <td>...</td>\n",
       "    </tr>\n",
       "    <tr>\n",
       "      <th>1435</th>\n",
       "      <td>2013-08-28 23:55:00 PST</td>\n",
       "      <td>130928.0+0.0j</td>\n",
       "      <td>1.835730e+06+9.130700e+05j</td>\n",
       "    </tr>\n",
       "    <tr>\n",
       "      <th>1436</th>\n",
       "      <td>2013-08-28 23:56:00 PST</td>\n",
       "      <td>130928.0+0.0j</td>\n",
       "      <td>1.823130e+06+9.094070e+05j</td>\n",
       "    </tr>\n",
       "    <tr>\n",
       "      <th>1437</th>\n",
       "      <td>2013-08-28 23:57:00 PST</td>\n",
       "      <td>130928.0+0.0j</td>\n",
       "      <td>1.812460e+06+9.066630e+05j</td>\n",
       "    </tr>\n",
       "    <tr>\n",
       "      <th>1438</th>\n",
       "      <td>2013-08-28 23:58:00 PST</td>\n",
       "      <td>130928.0+0.0j</td>\n",
       "      <td>1.797800e+06+9.022100e+05j</td>\n",
       "    </tr>\n",
       "    <tr>\n",
       "      <th>1439</th>\n",
       "      <td>2013-08-28 23:59:00 PST</td>\n",
       "      <td>130928.0+0.0j</td>\n",
       "      <td>1.783270e+06+8.976770e+05j</td>\n",
       "    </tr>\n",
       "  </tbody>\n",
       "</table>\n",
       "<p>1440 rows × 3 columns</p>\n",
       "</div>"
      ],
      "text/plain": [
       "                  # timestamp  positive_sequence_voltage  \\\n",
       "0     2013-08-28 00:00:00 PST              138000.0+0.0j   \n",
       "1     2013-08-28 00:01:00 PST              131097.0+0.0j   \n",
       "2     2013-08-28 00:02:00 PST              131097.0+0.0j   \n",
       "3     2013-08-28 00:03:00 PST              131097.0+0.0j   \n",
       "4     2013-08-28 00:04:00 PST              131097.0+0.0j   \n",
       "...                       ...                        ...   \n",
       "1435  2013-08-28 23:55:00 PST              130928.0+0.0j   \n",
       "1436  2013-08-28 23:56:00 PST              130928.0+0.0j   \n",
       "1437  2013-08-28 23:57:00 PST              130928.0+0.0j   \n",
       "1438  2013-08-28 23:58:00 PST              130928.0+0.0j   \n",
       "1439  2013-08-28 23:59:00 PST              130928.0+0.0j   \n",
       "\n",
       "               distribution_load  \n",
       "0     1.626200e+06+8.553530e+05j  \n",
       "1     1.520650e+06+8.049290e+05j  \n",
       "2     1.544140e+06+8.150010e+05j  \n",
       "3     1.562420e+06+8.228540e+05j  \n",
       "4     1.586310e+06+8.330780e+05j  \n",
       "...                          ...  \n",
       "1435  1.835730e+06+9.130700e+05j  \n",
       "1436  1.823130e+06+9.094070e+05j  \n",
       "1437  1.812460e+06+9.066630e+05j  \n",
       "1438  1.797800e+06+9.022100e+05j  \n",
       "1439  1.783270e+06+8.976770e+05j  \n",
       "\n",
       "[1440 rows x 3 columns]"
      ]
     },
     "execution_count": 9,
     "metadata": {},
     "output_type": "execute_result"
    }
   ],
   "source": [
    "data_pp_1"
   ]
  },
  {
   "cell_type": "code",
   "execution_count": 10,
   "id": "4b44a1a6",
   "metadata": {},
   "outputs": [],
   "source": [
    "pp_gp = pd.concat([data_pp_1, data_gp_1], axis = 1)\n",
    "pp_gp.columns = ['timestamp', 'positive_sequence_voltage_pp', 'distribution_load_pp', 'timestamp1', 'positive_sequence_voltage_gp', 'distribution_load_gp']"
   ]
  },
  {
   "cell_type": "code",
   "execution_count": 11,
   "id": "63ade858",
   "metadata": {},
   "outputs": [],
   "source": [
    "pp_gp = pp_gp.drop('timestamp1', axis = 1)"
   ]
  },
  {
   "cell_type": "code",
   "execution_count": 12,
   "id": "6b69a5f7",
   "metadata": {},
   "outputs": [
    {
     "name": "stderr",
     "output_type": "stream",
     "text": [
      "/home/lei/anaconda3/envs/helics-example/lib/python3.7/site-packages/numpy/core/_asarray.py:85: ComplexWarning: Casting complex values to real discards the imaginary part\n",
      "  return array(a, dtype, copy=False, order=order)\n",
      "/home/lei/anaconda3/envs/helics-example/lib/python3.7/site-packages/numpy/core/_asarray.py:85: ComplexWarning: Casting complex values to real discards the imaginary part\n",
      "  return array(a, dtype, copy=False, order=order)\n"
     ]
    },
    {
     "data": {
      "text/plain": [
       "<AxesSubplot:>"
      ]
     },
     "execution_count": 12,
     "metadata": {},
     "output_type": "execute_result"
    },
    {
     "data": {
      "image/png": "[encoded data removed]",
      "text/plain": [
       "<Figure size 432x288 with 1 Axes>"
      ]
     },
     "metadata": {
      "needs_background": "light"
     },
     "output_type": "display_data"
    }
   ],
   "source": [
    "pp_gp[['distribution_load_pp', 'distribution_load_gp']].plot()"
   ]
  },
  {
   "cell_type": "code",
   "execution_count": 13,
   "id": "60997694",
   "metadata": {},
   "outputs": [
    {
     "name": "stderr",
     "output_type": "stream",
     "text": [
      "/home/lei/anaconda3/envs/helics-example/lib/python3.7/site-packages/numpy/core/_asarray.py:85: ComplexWarning: Casting complex values to real discards the imaginary part\n",
      "  return array(a, dtype, copy=False, order=order)\n",
      "/home/lei/anaconda3/envs/helics-example/lib/python3.7/site-packages/numpy/core/_asarray.py:85: ComplexWarning: Casting complex values to real discards the imaginary part\n",
      "  return array(a, dtype, copy=False, order=order)\n"
     ]
    },
    {
     "data": {
      "text/plain": [
       "<AxesSubplot:>"
      ]
     },
     "execution_count": 13,
     "metadata": {},
     "output_type": "execute_result"
    },
    {
     "data": {
      "image/png": "[encoded data removed]",
      "text/plain": [
       "<Figure size 432x288 with 1 Axes>"
      ]
     },
     "metadata": {
      "needs_background": "light"
     },
     "output_type": "display_data"
    }
   ],
   "source": [
    "pp_gp[['positive_sequence_voltage_pp', 'positive_sequence_voltage_gp']][1:].plot()"
   ]
  },
  {
   "cell_type": "code",
   "execution_count": 16,
   "id": "99a702c1",
   "metadata": {},
   "outputs": [],
   "source": [
    "a = pp_gp['distribution_load_pp'].values.real\n",
    "b = pp_gp['distribution_load_gp'].values.real"
   ]
  },
  {
   "cell_type": "code",
   "execution_count": 19,
   "id": "c3bce804",
   "metadata": {},
   "outputs": [
    {
     "data": {
      "text/plain": [
       "Text(0, 0.5, 'y value')"
      ]
     },
     "execution_count": 19,
     "metadata": {},
     "output_type": "execute_result"
    },
    {
     "data": {
      "image/png": "[encoded data removed]",
      "text/plain": [
       "<Figure size 432x288 with 1 Axes>"
      ]
     },
     "metadata": {
      "needs_background": "light"
     },
     "output_type": "display_data"
    }
   ],
   "source": [
    "import matplotlib.pyplot as plt\n",
    "\n",
    "plt.plot()      # plot a line from (0, 0) to (1, 1)\n",
    "plt.title(\"a strait line\")\n",
    "plt.xlabel(\"x value\")\n",
    "plt.ylabel(\"y value\")\n",
    "# plt.savefig(\"demo.jpg\")"
   ]
  },
  {
   "cell_type": "code",
   "execution_count": 37,
   "id": "a5b13866",
   "metadata": {},
   "outputs": [],
   "source": [
    "# /home/lei/Install_package/GridPACK-renke/src/build/applications/powerflow\n",
    "voltage_gp_stand_clone = pd.read_csv('/home/lei/Install_package/GridPACK-renke/src/build/applications/powerflow/voltage_gp.csv')\n",
    "voltage_gp_stand_clone_1 = voltage_gp_stand_clone"
   ]
  },
  {
   "cell_type": "code",
   "execution_count": 38,
   "id": "103e7b4d",
   "metadata": {
    "scrolled": false
   },
   "outputs": [
    {
     "data": {
      "text/html": [
       "<div>\n",
       "<style scoped>\n",
       "    .dataframe tbody tr th:only-of-type {\n",
       "        vertical-align: middle;\n",
       "    }\n",
       "\n",
       "    .dataframe tbody tr th {\n",
       "        vertical-align: top;\n",
       "    }\n",
       "\n",
       "    .dataframe thead th {\n",
       "        text-align: right;\n",
       "    }\n",
       "</style>\n",
       "<table border=\"1\" class=\"dataframe\">\n",
       "  <thead>\n",
       "    <tr style=\"text-align: right;\">\n",
       "      <th></th>\n",
       "      <th>voltage</th>\n",
       "    </tr>\n",
       "  </thead>\n",
       "  <tbody>\n",
       "    <tr>\n",
       "      <th>0</th>\n",
       "      <td>136657+0j</td>\n",
       "    </tr>\n",
       "    <tr>\n",
       "      <th>1</th>\n",
       "      <td>131677+0j</td>\n",
       "    </tr>\n",
       "    <tr>\n",
       "      <th>2</th>\n",
       "      <td>131677+0j</td>\n",
       "    </tr>\n",
       "    <tr>\n",
       "      <th>3</th>\n",
       "      <td>131677+0j</td>\n",
       "    </tr>\n",
       "    <tr>\n",
       "      <th>4</th>\n",
       "      <td>131677+0j</td>\n",
       "    </tr>\n",
       "    <tr>\n",
       "      <th>...</th>\n",
       "      <td>...</td>\n",
       "    </tr>\n",
       "    <tr>\n",
       "      <th>1435</th>\n",
       "      <td>131602+0j</td>\n",
       "    </tr>\n",
       "    <tr>\n",
       "      <th>1436</th>\n",
       "      <td>131602+0j</td>\n",
       "    </tr>\n",
       "    <tr>\n",
       "      <th>1437</th>\n",
       "      <td>131602+0j</td>\n",
       "    </tr>\n",
       "    <tr>\n",
       "      <th>1438</th>\n",
       "      <td>131602+0j</td>\n",
       "    </tr>\n",
       "    <tr>\n",
       "      <th>1439</th>\n",
       "      <td>131602+0j</td>\n",
       "    </tr>\n",
       "  </tbody>\n",
       "</table>\n",
       "<p>1440 rows × 1 columns</p>\n",
       "</div>"
      ],
      "text/plain": [
       "        voltage\n",
       "0     136657+0j\n",
       "1     131677+0j\n",
       "2     131677+0j\n",
       "3     131677+0j\n",
       "4     131677+0j\n",
       "...         ...\n",
       "1435  131602+0j\n",
       "1436  131602+0j\n",
       "1437  131602+0j\n",
       "1438  131602+0j\n",
       "1439  131602+0j\n",
       "\n",
       "[1440 rows x 1 columns]"
      ]
     },
     "execution_count": 38,
     "metadata": {},
     "output_type": "execute_result"
    }
   ],
   "source": [
    "voltage_gp_stand_clone_1"
   ]
  },
  {
   "cell_type": "code",
   "execution_count": 39,
   "id": "31398e4c",
   "metadata": {},
   "outputs": [],
   "source": [
    "voltage_gp_stand_clone_1['voltage'] = voltage_gp_stand_clone_1['voltage'].str.replace('i','j').apply(lambda x: np.complex(x))"
   ]
  },
  {
   "cell_type": "code",
   "execution_count": 55,
   "id": "1d42948e",
   "metadata": {},
   "outputs": [],
   "source": [
    "cosim_stand_alone_voltage = pd.DataFrame([voltage_gp_stand_clone_1['voltage'], pp_gp['positive_sequence_voltage_gp']])\n",
    "cosim_stand_alone_voltage = cosim_stand_alone_voltage.transpose()\n",
    "cosim_stand_alone_voltage.columns = ['stand_alone_voltage_gp', 'co_sim_voltage_gp']"
   ]
  },
  {
   "cell_type": "code",
   "execution_count": 56,
   "id": "34f7784c",
   "metadata": {},
   "outputs": [
    {
     "name": "stderr",
     "output_type": "stream",
     "text": [
      "/home/lei/anaconda3/envs/helics-example/lib/python3.7/site-packages/numpy/core/_asarray.py:85: ComplexWarning: Casting complex values to real discards the imaginary part\n",
      "  return array(a, dtype, copy=False, order=order)\n",
      "/home/lei/anaconda3/envs/helics-example/lib/python3.7/site-packages/numpy/core/_asarray.py:85: ComplexWarning: Casting complex values to real discards the imaginary part\n",
      "  return array(a, dtype, copy=False, order=order)\n"
     ]
    },
    {
     "data": {
      "text/plain": [
       "<AxesSubplot:>"
      ]
     },
     "execution_count": 56,
     "metadata": {},
     "output_type": "execute_result"
    },
    {
     "data": {
      "image/png": "[encoded data removed]",
      "text/plain": [
       "<Figure size 432x288 with 1 Axes>"
      ]
     },
     "metadata": {
      "needs_background": "light"
     },
     "output_type": "display_data"
    }
   ],
   "source": [
    "cosim_stand_alone_voltage[1:].plot()"
   ]
  },
  {
   "cell_type": "code",
   "execution_count": null,
   "id": "66438c3a",
   "metadata": {},
   "outputs": [],
   "source": []
  },
  {
   "cell_type": "code",
   "execution_count": 64,
   "id": "ef04ac59",
   "metadata": {},
   "outputs": [],
   "source": [
    "# file...... output/IEEE_123_feeder_0_swing_node_3.csv\n",
    "# date...... Thu Jul 22 23:30:50 2021\n",
    "# user...... lei\n",
    "# host...... (null)\n",
    "# target.... substation 2\n",
    "# trigger... (none)\n",
    "# interval.. 60\n",
    "# limit..... 0\n",
    "\n",
    "stand_alone_gb = pd.read_csv('/home/lei/Desktop/test-helics/federates/Distribution/output/IEEE_123_feeder_0_swing_node_3.csv')\n",
    "stand_alone_gb_1 = stand_alone_gb"
   ]
  },
  {
   "cell_type": "code",
   "execution_count": 65,
   "id": "b9b3e62b",
   "metadata": {},
   "outputs": [],
   "source": [
    "stand_alone_gb_1['distribution_load'] = stand_alone_gb_1['distribution_load'].str.replace('i','j').apply(lambda x: np.complex(x))"
   ]
  },
  {
   "cell_type": "code",
   "execution_count": 66,
   "id": "8a9c26a5",
   "metadata": {},
   "outputs": [],
   "source": [
    "cosim_stand_alone_gb = pd.DataFrame([stand_alone_gb_1['distribution_load'], pp_gp['distribution_load_gp']])\n",
    "cosim_stand_alone_gb = cosim_stand_alone_gb.transpose()\n",
    "cosim_stand_alone_gb.columns = ['stand_alone_load_gb', 'co_sim_load_gb']"
   ]
  },
  {
   "cell_type": "code",
   "execution_count": 67,
   "id": "8529042e",
   "metadata": {},
   "outputs": [
    {
     "name": "stderr",
     "output_type": "stream",
     "text": [
      "/home/lei/anaconda3/envs/helics-example/lib/python3.7/site-packages/numpy/core/_asarray.py:85: ComplexWarning: Casting complex values to real discards the imaginary part\n",
      "  return array(a, dtype, copy=False, order=order)\n",
      "/home/lei/anaconda3/envs/helics-example/lib/python3.7/site-packages/numpy/core/_asarray.py:85: ComplexWarning: Casting complex values to real discards the imaginary part\n",
      "  return array(a, dtype, copy=False, order=order)\n"
     ]
    },
    {
     "data": {
      "text/plain": [
       "<AxesSubplot:>"
      ]
     },
     "execution_count": 67,
     "metadata": {},
     "output_type": "execute_result"
    },
    {
     "data": {
      "image/png": "[encoded data removed]",
      "text/plain": [
       "<Figure size 432x288 with 1 Axes>"
      ]
     },
     "metadata": {
      "needs_background": "light"
     },
     "output_type": "display_data"
    }
   ],
   "source": [
    "cosim_stand_alone_gb.plot()"
   ]
  },
  {
   "cell_type": "code",
   "execution_count": 63,
   "id": "c36ba8a1",
   "metadata": {},
   "outputs": [
    {
     "data": {
      "text/html": [
       "<div>\n",
       "<style scoped>\n",
       "    .dataframe tbody tr th:only-of-type {\n",
       "        vertical-align: middle;\n",
       "    }\n",
       "\n",
       "    .dataframe tbody tr th {\n",
       "        vertical-align: top;\n",
       "    }\n",
       "\n",
       "    .dataframe thead th {\n",
       "        text-align: right;\n",
       "    }\n",
       "</style>\n",
       "<table border=\"1\" class=\"dataframe\">\n",
       "  <thead>\n",
       "    <tr style=\"text-align: right;\">\n",
       "      <th></th>\n",
       "      <th>stand_alone_load_gb</th>\n",
       "      <th>co_sim_load_gb</th>\n",
       "    </tr>\n",
       "  </thead>\n",
       "  <tbody>\n",
       "    <tr>\n",
       "      <th>0</th>\n",
       "      <td>+1.6262e+06+855353j</td>\n",
       "      <td>(1626200+855353j)</td>\n",
       "    </tr>\n",
       "    <tr>\n",
       "      <th>1</th>\n",
       "      <td>+1.63002e+06+856436j</td>\n",
       "      <td>(1520420+804858j)</td>\n",
       "    </tr>\n",
       "    <tr>\n",
       "      <th>2</th>\n",
       "      <td>+1.62802e+06+855079j</td>\n",
       "      <td>(1542340+814152j)</td>\n",
       "    </tr>\n",
       "    <tr>\n",
       "      <th>3</th>\n",
       "      <td>+1.632e+06+856212j</td>\n",
       "      <td>(1562190+822780j)</td>\n",
       "    </tr>\n",
       "    <tr>\n",
       "      <th>4</th>\n",
       "      <td>+1.63475e+06+856653j</td>\n",
       "      <td>(1584460+832208j)</td>\n",
       "    </tr>\n",
       "    <tr>\n",
       "      <th>...</th>\n",
       "      <td>...</td>\n",
       "      <td>...</td>\n",
       "    </tr>\n",
       "    <tr>\n",
       "      <th>1435</th>\n",
       "      <td>+1.8435e+06+916744j</td>\n",
       "      <td>(1835690+913049j)</td>\n",
       "    </tr>\n",
       "    <tr>\n",
       "      <th>1436</th>\n",
       "      <td>+1.8328e+06+913987j</td>\n",
       "      <td>(1823080+909387j)</td>\n",
       "    </tr>\n",
       "    <tr>\n",
       "      <th>1437</th>\n",
       "      <td>+1.82266e+06+911286j</td>\n",
       "      <td>(1812410+906643j)</td>\n",
       "    </tr>\n",
       "    <tr>\n",
       "      <th>1438</th>\n",
       "      <td>+1.80801e+06+906711j</td>\n",
       "      <td>(1797750+902190j)</td>\n",
       "    </tr>\n",
       "    <tr>\n",
       "      <th>1439</th>\n",
       "      <td>+1.79281e+06+902092j</td>\n",
       "      <td>(1783230+897657j)</td>\n",
       "    </tr>\n",
       "  </tbody>\n",
       "</table>\n",
       "<p>1440 rows × 2 columns</p>\n",
       "</div>"
      ],
      "text/plain": [
       "       stand_alone_load_gb     co_sim_load_gb\n",
       "0      +1.6262e+06+855353j  (1626200+855353j)\n",
       "1     +1.63002e+06+856436j  (1520420+804858j)\n",
       "2     +1.62802e+06+855079j  (1542340+814152j)\n",
       "3       +1.632e+06+856212j  (1562190+822780j)\n",
       "4     +1.63475e+06+856653j  (1584460+832208j)\n",
       "...                    ...                ...\n",
       "1435   +1.8435e+06+916744j  (1835690+913049j)\n",
       "1436   +1.8328e+06+913987j  (1823080+909387j)\n",
       "1437  +1.82266e+06+911286j  (1812410+906643j)\n",
       "1438  +1.80801e+06+906711j  (1797750+902190j)\n",
       "1439  +1.79281e+06+902092j  (1783230+897657j)\n",
       "\n",
       "[1440 rows x 2 columns]"
      ]
     },
     "execution_count": 63,
     "metadata": {},
     "output_type": "execute_result"
    }
   ],
   "source": [
    "cosim_stand_alone_gb"
   ]
  },
  {
   "cell_type": "code",
   "execution_count": null,
   "id": "41309e78",
   "metadata": {},
   "outputs": [],
   "source": []
  },
  {
   "cell_type": "code",
   "execution_count": 70,
   "id": "0de4e402",
   "metadata": {},
   "outputs": [],
   "source": [
    "#/home/lei/Desktop/HELICS-Examples/user_guide_examples/to_sort/Example_1a/Transmission\n",
    "voltage_pp_stand_clone = pd.read_csv('/home/lei/Desktop/HELICS-Examples/user_guide_examples/to_sort/Example_1a/Transmission/stand_alone_voltage_pp.csv')\n",
    "voltage_pp_stand_clone_1 = voltage_pp_stand_clone"
   ]
  },
  {
   "cell_type": "code",
   "execution_count": 71,
   "id": "05ccc7f4",
   "metadata": {},
   "outputs": [
    {
     "data": {
      "text/html": [
       "<div>\n",
       "<style scoped>\n",
       "    .dataframe tbody tr th:only-of-type {\n",
       "        vertical-align: middle;\n",
       "    }\n",
       "\n",
       "    .dataframe tbody tr th {\n",
       "        vertical-align: top;\n",
       "    }\n",
       "\n",
       "    .dataframe thead th {\n",
       "        text-align: right;\n",
       "    }\n",
       "</style>\n",
       "<table border=\"1\" class=\"dataframe\">\n",
       "  <thead>\n",
       "    <tr style=\"text-align: right;\">\n",
       "      <th></th>\n",
       "      <th>Unnamed: 0</th>\n",
       "      <th>stand_alone_voltage_pp</th>\n",
       "    </tr>\n",
       "  </thead>\n",
       "  <tbody>\n",
       "    <tr>\n",
       "      <th>0</th>\n",
       "      <td>0</td>\n",
       "      <td>(136593.36599999998+0j)</td>\n",
       "    </tr>\n",
       "    <tr>\n",
       "      <th>1</th>\n",
       "      <td>1</td>\n",
       "      <td>(131674.79970209094+0j)</td>\n",
       "    </tr>\n",
       "    <tr>\n",
       "      <th>2</th>\n",
       "      <td>2</td>\n",
       "      <td>(131674.79970209094+0j)</td>\n",
       "    </tr>\n",
       "    <tr>\n",
       "      <th>3</th>\n",
       "      <td>3</td>\n",
       "      <td>(131674.79970209094+0j)</td>\n",
       "    </tr>\n",
       "    <tr>\n",
       "      <th>4</th>\n",
       "      <td>4</td>\n",
       "      <td>(131674.79970209094+0j)</td>\n",
       "    </tr>\n",
       "    <tr>\n",
       "      <th>...</th>\n",
       "      <td>...</td>\n",
       "      <td>...</td>\n",
       "    </tr>\n",
       "    <tr>\n",
       "      <th>1435</th>\n",
       "      <td>1435</td>\n",
       "      <td>(131599.77888334444+0j)</td>\n",
       "    </tr>\n",
       "    <tr>\n",
       "      <th>1436</th>\n",
       "      <td>1436</td>\n",
       "      <td>(131599.77888334444+0j)</td>\n",
       "    </tr>\n",
       "    <tr>\n",
       "      <th>1437</th>\n",
       "      <td>1437</td>\n",
       "      <td>(131599.77888334444+0j)</td>\n",
       "    </tr>\n",
       "    <tr>\n",
       "      <th>1438</th>\n",
       "      <td>1438</td>\n",
       "      <td>(131599.77888334444+0j)</td>\n",
       "    </tr>\n",
       "    <tr>\n",
       "      <th>1439</th>\n",
       "      <td>1439</td>\n",
       "      <td>(131599.77888334444+0j)</td>\n",
       "    </tr>\n",
       "  </tbody>\n",
       "</table>\n",
       "<p>1440 rows × 2 columns</p>\n",
       "</div>"
      ],
      "text/plain": [
       "      Unnamed: 0   stand_alone_voltage_pp\n",
       "0              0  (136593.36599999998+0j)\n",
       "1              1  (131674.79970209094+0j)\n",
       "2              2  (131674.79970209094+0j)\n",
       "3              3  (131674.79970209094+0j)\n",
       "4              4  (131674.79970209094+0j)\n",
       "...          ...                      ...\n",
       "1435        1435  (131599.77888334444+0j)\n",
       "1436        1436  (131599.77888334444+0j)\n",
       "1437        1437  (131599.77888334444+0j)\n",
       "1438        1438  (131599.77888334444+0j)\n",
       "1439        1439  (131599.77888334444+0j)\n",
       "\n",
       "[1440 rows x 2 columns]"
      ]
     },
     "execution_count": 71,
     "metadata": {},
     "output_type": "execute_result"
    }
   ],
   "source": [
    "voltage_pp_stand_clone_1"
   ]
  },
  {
   "cell_type": "code",
   "execution_count": 72,
   "id": "acabb65b",
   "metadata": {},
   "outputs": [],
   "source": [
    "voltage_pp_stand_clone_1['stand_alone_voltage_pp'] = voltage_pp_stand_clone_1['stand_alone_voltage_pp'].str.replace('i','j').apply(lambda x: np.complex(x))"
   ]
  },
  {
   "cell_type": "code",
   "execution_count": 73,
   "id": "2bdd19aa",
   "metadata": {},
   "outputs": [],
   "source": [
    "cosim_stand_alone_voltage_pp = pd.DataFrame([voltage_pp_stand_clone_1['stand_alone_voltage_pp'], pp_gp['positive_sequence_voltage_gp']])\n",
    "cosim_stand_alone_voltage_pp = cosim_stand_alone_voltage_pp.transpose()\n",
    "cosim_stand_alone_voltage_pp.columns = ['stand_alone_voltage_pp', 'co_sim_voltage_pp']\n"
   ]
  },
  {
   "cell_type": "code",
   "execution_count": 74,
   "id": "61ce722f",
   "metadata": {},
   "outputs": [
    {
     "name": "stderr",
     "output_type": "stream",
     "text": [
      "/home/lei/anaconda3/envs/helics-example/lib/python3.7/site-packages/numpy/core/_asarray.py:85: ComplexWarning: Casting complex values to real discards the imaginary part\n",
      "  return array(a, dtype, copy=False, order=order)\n",
      "/home/lei/anaconda3/envs/helics-example/lib/python3.7/site-packages/numpy/core/_asarray.py:85: ComplexWarning: Casting complex values to real discards the imaginary part\n",
      "  return array(a, dtype, copy=False, order=order)\n"
     ]
    },
    {
     "data": {
      "text/plain": [
       "<AxesSubplot:>"
      ]
     },
     "execution_count": 74,
     "metadata": {},
     "output_type": "execute_result"
    },
    {
     "data": {
      "image/png": "[encoded data removed]",
      "text/plain": [
       "<Figure size 432x288 with 1 Axes>"
      ]
     },
     "metadata": {
      "needs_background": "light"
     },
     "output_type": "display_data"
    }
   ],
   "source": [
    "cosim_stand_alone_voltage_pp[1:].plot()"
   ]
  },
  {
   "cell_type": "code",
   "execution_count": null,
   "id": "0f8f9702",
   "metadata": {},
   "outputs": [],
   "source": []
  }
 ],
 "metadata": {
  "kernelspec": {
   "display_name": "helics-example",
   "language": "python",
   "name": "helics-example"
  },
  "language_info": {
   "codemirror_mode": {
    "name": "ipython",
    "version": 3
   },
   "file_extension": ".py",
   "mimetype": "text/x-python",
   "name": "python",
   "nbconvert_exporter": "python",
   "pygments_lexer": "ipython3",
   "version": "3.7.10"
  }
 },
 "nbformat": 4,
 "nbformat_minor": 5
}
